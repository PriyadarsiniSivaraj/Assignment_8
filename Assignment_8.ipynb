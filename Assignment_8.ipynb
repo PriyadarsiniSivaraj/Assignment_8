{
 "cells": [
  {
   "cell_type": "code",
   "execution_count": 2,
   "metadata": {},
   "outputs": [
    {
     "name": "stdout",
     "output_type": "stream",
     "text": [
      "   X  Y\n",
      "0  7  1\n",
      "1  2  2\n",
      "2  0  0\n",
      "3  3  1\n",
      "4  4  2\n",
      "5  2  3\n",
      "6  5  4\n",
      "7  0  0\n",
      "8  3  1\n",
      "9  4  2\n"
     ]
    }
   ],
   "source": [
    "# Q1.For each value, count the difference back to the previous zero (or the start of the Series,whichever is closer)\n",
    "\n",
    "import pandas as pd\n",
    "import numpy as np\n",
    "#Given DataFrame\n",
    "df = pd.DataFrame({'X': [7, 2, 0, 3, 4, 2, 5, 0, 3, 4]})\n",
    "l = df['X']\n",
    "i = 0\n",
    "r = []\n",
    "#Finding the difference back to the previous zero\n",
    "for element in l:\n",
    "    if element != 0:\n",
    "        i += 1\n",
    "    else:\n",
    "        i = 0\n",
    "    r.append(i)\n",
    "#Creating a new column Y\n",
    "df['Y'] = r\n",
    "print(df)"
   ]
  },
  {
   "cell_type": "code",
   "execution_count": 3,
   "metadata": {},
   "outputs": [
    {
     "name": "stdout",
     "output_type": "stream",
     "text": [
      "2015-01-01     72\n",
      "2015-01-02    208\n",
      "2015-01-05    150\n",
      "2015-01-06    109\n",
      "2015-01-07    260\n",
      "2015-01-08     97\n",
      "2015-01-09     31\n",
      "2015-01-12    111\n",
      "2015-01-13    246\n",
      "2015-01-14    170\n",
      "2015-01-15    241\n",
      "2015-01-16     17\n",
      "2015-01-19     78\n",
      "2015-01-20    226\n",
      "2015-01-21    257\n",
      "2015-01-22     33\n",
      "2015-01-23    252\n",
      "2015-01-26     79\n",
      "2015-01-27    124\n",
      "2015-01-28    209\n",
      "2015-01-29     49\n",
      "2015-01-30     84\n",
      "2015-02-02    129\n",
      "2015-02-03     46\n",
      "2015-02-04    175\n",
      "2015-02-05    227\n",
      "2015-02-06     96\n",
      "2015-02-09    238\n",
      "2015-02-10     13\n",
      "2015-02-11     45\n",
      "             ... \n",
      "2015-11-20     67\n",
      "2015-11-23    200\n",
      "2015-11-24     32\n",
      "2015-11-25    189\n",
      "2015-11-26     95\n",
      "2015-11-27    131\n",
      "2015-11-30    133\n",
      "2015-12-01    153\n",
      "2015-12-02     51\n",
      "2015-12-03    178\n",
      "2015-12-04    215\n",
      "2015-12-07    123\n",
      "2015-12-08    201\n",
      "2015-12-09     14\n",
      "2015-12-10    130\n",
      "2015-12-11    185\n",
      "2015-12-14      5\n",
      "2015-12-15    119\n",
      "2015-12-16     54\n",
      "2015-12-17    231\n",
      "2015-12-18    132\n",
      "2015-12-21    222\n",
      "2015-12-22     66\n",
      "2015-12-23    187\n",
      "2015-12-24     90\n",
      "2015-12-25    122\n",
      "2015-12-28    192\n",
      "2015-12-29     65\n",
      "2015-12-30    223\n",
      "2015-12-31     23\n",
      "Freq: B, Length: 261, dtype: int64\n"
     ]
    }
   ],
   "source": [
    "# Q2. Create a DatetimeIndex that contains each business day of 2015 and use it to index a Series of random numbers.\n",
    "\n",
    "#Creating the DatetimeIndex with the business days of 2015\n",
    "dti = pd.bdate_range(start='1/1/2015',end='31/12/2015')\n",
    "\n",
    "#Generating random numbers\n",
    "data = list(range(1,len(dti)+1))\n",
    "np.random.shuffle(data)\n",
    "\n",
    "#Using DatetimeIndex to index the series of random numbers\n",
    "s = pd.Series(data, index=dti)\n",
    "print(s)"
   ]
  },
  {
   "cell_type": "code",
   "execution_count": 4,
   "metadata": {},
   "outputs": [
    {
     "name": "stdout",
     "output_type": "stream",
     "text": [
      "7114\n"
     ]
    }
   ],
   "source": [
    "# Q3.Find the sum of the values in s for every Wednesday\n",
    "\n",
    "#Seperating only wednesdays\n",
    "wed = s.loc[s.index.weekday==2]\n",
    "#Sum of values\n",
    "print(wed.sum())"
   ]
  },
  {
   "cell_type": "code",
   "execution_count": 5,
   "metadata": {},
   "outputs": [
    {
     "name": "stdout",
     "output_type": "stream",
     "text": [
      "1     141.045455\n",
      "2     123.350000\n",
      "3     153.227273\n",
      "4     144.318182\n",
      "5     139.571429\n",
      "6     108.545455\n",
      "7     128.304348\n",
      "8      99.904762\n",
      "9     138.409091\n",
      "10    126.227273\n",
      "11    138.285714\n",
      "12    129.608696\n",
      "dtype: float64\n"
     ]
    }
   ],
   "source": [
    "# Q4. Average For each calendar month\n",
    "print(s.groupby(s.index.month).mean())"
   ]
  },
  {
   "cell_type": "code",
   "execution_count": 8,
   "metadata": {},
   "outputs": [
    {
     "name": "stdout",
     "output_type": "stream",
     "text": [
      "2015-01-31    260\n",
      "2015-05-31    258\n",
      "2015-09-30    261\n",
      "2016-01-31    255\n",
      "dtype: int64\n",
      "            Highest Value Date of Occurrence of highest val\n",
      "2015-01-31            260                        2015-01-07\n",
      "2015-05-31            258                        2015-04-13\n",
      "2015-09-30            261                        2015-09-15\n",
      "2016-01-31            255                        2015-11-09\n"
     ]
    }
   ],
   "source": [
    "# Q5.For each group of four consecutive calendar months in s, find the date on which the highest value occurred.\n",
    "\n",
    "#Grouping into four condective months and finding the respective highest values\n",
    "s1=s.resample('4M').max()\n",
    "print(s1)\n",
    "\n",
    "#Finding the date of occurrence of highest values\n",
    "dt_lst = pd.Series()\n",
    "for i in range(4):\n",
    "      dt_lst = dt_lst.append(pd.Series(s[s==s1[i]].index,index=[s1.index[i]]))\n",
    "\n",
    "#Combining the outcomes in a dataframe for presentation\n",
    "df1=pd.DataFrame()\n",
    "df1['Highest Value']=s1\n",
    "df1['Date of Occurrence of highest val']=dt_lst\n",
    "print(df1)"
   ]
  },
  {
   "cell_type": "code",
   "execution_count": null,
   "metadata": {},
   "outputs": [],
   "source": []
  }
 ],
 "metadata": {
  "kernelspec": {
   "display_name": "Python 3",
   "language": "python",
   "name": "python3"
  },
  "language_info": {
   "codemirror_mode": {
    "name": "ipython",
    "version": 3
   },
   "file_extension": ".py",
   "mimetype": "text/x-python",
   "name": "python",
   "nbconvert_exporter": "python",
   "pygments_lexer": "ipython3",
   "version": "3.6.5"
  }
 },
 "nbformat": 4,
 "nbformat_minor": 2
}
